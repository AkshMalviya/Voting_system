{
 "cells": [
  {
   "cell_type": "code",
   "execution_count": 2,
   "id": "5a6aedf9",
   "metadata": {},
   "outputs": [],
   "source": [
    "import mysql.connector\n",
    "from mysql.connector import Error"
   ]
  },
  {
   "cell_type": "code",
   "execution_count": 6,
   "id": "cddb5459",
   "metadata": {},
   "outputs": [],
   "source": [
    "def create_connection(host_name , user_name , user_password):\n",
    "    connection = None\n",
    "    try:\n",
    "        connection = mysql.connector.connect(\n",
    "            host = host_name,\n",
    "            user = user_name,\n",
    "            passwd = user_password\n",
    "        )\n",
    "        print(\"Database is connected succesfully \")\n",
    "    except Error as err:\n",
    "        print(f\"Error : {err}\")\n",
    "    return connection "
   ]
  },
  {
   "cell_type": "code",
   "execution_count": null,
   "id": "9bb7c10b",
   "metadata": {},
   "outputs": [],
   "source": []
  },
  {
   "cell_type": "code",
   "execution_count": 7,
   "id": "805e2f30",
   "metadata": {},
   "outputs": [
    {
     "name": "stdout",
     "output_type": "stream",
     "text": [
      "Database is connected succesfully \n"
     ]
    }
   ],
   "source": [
    "connection = create_connection(\"localhost\" , \"root\" , \"root\" )"
   ]
  },
  {
   "cell_type": "code",
   "execution_count": 5,
   "id": "611322c5",
   "metadata": {},
   "outputs": [],
   "source": [
    "def creating_database(connection,query):\n",
    "    cursor = connection.cursor()\n",
    "    try:\n",
    "        cursor.execute(query)\n",
    "        print(\"Database created successfully\")\n",
    "    except Error as err:\n",
    "        print(f\"Error : {err}\") "
   ]
  },
  {
   "cell_type": "code",
   "execution_count": 6,
   "id": "e90f65d3",
   "metadata": {},
   "outputs": [
    {
     "name": "stdout",
     "output_type": "stream",
     "text": [
      "Database created successfully\n"
     ]
    }
   ],
   "source": [
    "creating_database(connection,\"create database voter\")"
   ]
  },
  {
   "cell_type": "code",
   "execution_count": 8,
   "id": "85be6a19",
   "metadata": {},
   "outputs": [],
   "source": [
    "db_name = \"voter\"\n",
    "def connecting_db(host_name , user_name , user_password , db_name):\n",
    "    connection = None\n",
    "    try:\n",
    "        connection = mysql.connector.connect(\n",
    "            host = host_name,\n",
    "            user = user_name,\n",
    "            passwd = user_password,\n",
    "            database = db_name\n",
    "        )\n",
    "        print(\"voter's Database is connected succesfully \")\n",
    "    except Error as err:\n",
    "        print(f\"Error : {err}\")\n",
    "    return connection         "
   ]
  },
  {
   "cell_type": "code",
   "execution_count": 11,
   "id": "ff410d82",
   "metadata": {},
   "outputs": [],
   "source": [
    "def execute_query(connection,query):\n",
    "    cursor = connection.cursor()\n",
    "    try:\n",
    "        cursor.execute(query)\n",
    "        connection.commit()\n",
    "        print(\"Query executed successfully\")\n",
    "    except Error as err:\n",
    "        print(f\"Error:{err}\")     "
   ]
  },
  {
   "cell_type": "code",
   "execution_count": 12,
   "id": "6a7f8791",
   "metadata": {},
   "outputs": [],
   "source": [
    "creating_order_query =\"\"\"\n",
    "create table users (\n",
    "userID int primary key,\n",
    "password varchar(10) not null);\"\"\""
   ]
  },
  {
   "cell_type": "code",
   "execution_count": null,
   "id": "f26b998a",
   "metadata": {},
   "outputs": [],
   "source": [
    "creating_new_user = f\"\"\"\n",
    "insert into user values ({userID} , {password}\"\"\" \n",
    "    "
   ]
  },
  {
   "cell_type": "code",
   "execution_count": 1,
   "id": "d19fc450",
   "metadata": {},
   "outputs": [
    {
     "ename": "NameError",
     "evalue": "name 'connecting_db' is not defined",
     "output_type": "error",
     "traceback": [
      "\u001b[1;31m---------------------------------------------------------------------------\u001b[0m",
      "\u001b[1;31mNameError\u001b[0m                                 Traceback (most recent call last)",
      "Input \u001b[1;32mIn [1]\u001b[0m, in \u001b[0;36m<cell line: 1>\u001b[1;34m()\u001b[0m\n\u001b[1;32m----> 1\u001b[0m connection \u001b[38;5;241m=\u001b[39m \u001b[43mconnecting_db\u001b[49m(\u001b[38;5;124m\"\u001b[39m\u001b[38;5;124mlocalhost\u001b[39m\u001b[38;5;124m\"\u001b[39m , \u001b[38;5;124m\"\u001b[39m\u001b[38;5;124mroot\u001b[39m\u001b[38;5;124m\"\u001b[39m , \u001b[38;5;124m\"\u001b[39m\u001b[38;5;124mroot\u001b[39m\u001b[38;5;124m\"\u001b[39m, db_name)\n\u001b[0;32m      2\u001b[0m execute_query(connection , creating_order_query)\n",
      "\u001b[1;31mNameError\u001b[0m: name 'connecting_db' is not defined"
     ]
    }
   ],
   "source": [
    "connection = connecting_db(\"localhost\" , \"root\" , \"root\", db_name)\n",
    "execute_query(connection , creating_order_query)"
   ]
  },
  {
   "cell_type": "code",
   "execution_count": null,
   "id": "5e7c9d60",
   "metadata": {},
   "outputs": [],
   "source": []
  }
 ],
 "metadata": {
  "kernelspec": {
   "display_name": "Python 3 (ipykernel)",
   "language": "python",
   "name": "python3"
  },
  "language_info": {
   "codemirror_mode": {
    "name": "ipython",
    "version": 3
   },
   "file_extension": ".py",
   "mimetype": "text/x-python",
   "name": "python",
   "nbconvert_exporter": "python",
   "pygments_lexer": "ipython3",
   "version": "3.10.2"
  }
 },
 "nbformat": 4,
 "nbformat_minor": 5
}
